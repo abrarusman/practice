{
    "cells": [
        {
            "cell_type": "markdown",
            "metadata": {},
            "source": "# week_4\n"
        },
        {
            "cell_type": "markdown",
            "metadata": {
                "collapsed": true
            },
            "source": "## introduction \n\n"
        },
        {
            "cell_type": "markdown",
            "metadata": {},
            "source": "## data science languages.\n\nthere are many languages used by data scientists but these are the most commonly used languages : \n* python\n* sql\n* R\n* java\n* scala\n* julia\n"
        },
        {
            "cell_type": "markdown",
            "metadata": {},
            "source": "## data science libraries.\n* NumPy\n* SciPy\n* Sci-Kit Learn\n* Tensorflow"
        },
        {
            "cell_type": "markdown",
            "metadata": {},
            "source": "## data science tools\n* tableau\n* google sheets\n* excel\n* spss\n* ibm watson studio\n* Rstudio\nand many more\n\n"
        },
        {
            "cell_type": "markdown",
            "metadata": {},
            "source": "## arithmetic expression examples\n\n"
        },
        {
            "cell_type": "code",
            "execution_count": 2,
            "metadata": {},
            "outputs": [
                {
                    "data": {
                        "text/plain": "7"
                    },
                    "execution_count": 2,
                    "metadata": {},
                    "output_type": "execute_result"
                }
            ],
            "source": "3+4"
        },
        {
            "cell_type": "markdown",
            "metadata": {},
            "source": "## mul & add numbers"
        },
        {
            "cell_type": "code",
            "execution_count": 3,
            "metadata": {},
            "outputs": [
                {
                    "data": {
                        "text/plain": "18"
                    },
                    "execution_count": 3,
                    "metadata": {},
                    "output_type": "execute_result"
                }
            ],
            "source": "3*(4+2)"
        },
        {
            "cell_type": "markdown",
            "metadata": {},
            "source": "# # Create a code cell to convert minutes to hours.\n"
        },
        {
            "cell_type": "code",
            "execution_count": 6,
            "metadata": {},
            "outputs": [
                {
                    "data": {
                        "text/plain": "(4.0, 'hrs')"
                    },
                    "execution_count": 6,
                    "metadata": {},
                    "output_type": "execute_result"
                }
            ],
            "source": "240/60,(\"hrs\")"
        },
        {
            "cell_type": "code",
            "execution_count": null,
            "metadata": {},
            "outputs": [],
            "source": ""
        },
        {
            "cell_type": "code",
            "execution_count": null,
            "metadata": {},
            "outputs": [],
            "source": ""
        }
    ],
    "metadata": {
        "kernelspec": {
            "display_name": "Python 3.10",
            "language": "python",
            "name": "python3"
        },
        "language_info": {
            "codemirror_mode": {
                "name": "ipython",
                "version": 3
            },
            "file_extension": ".py",
            "mimetype": "text/x-python",
            "name": "python",
            "nbconvert_exporter": "python",
            "pygments_lexer": "ipython3",
            "version": "3.10.9"
        }
    },
    "nbformat": 4,
    "nbformat_minor": 1
}